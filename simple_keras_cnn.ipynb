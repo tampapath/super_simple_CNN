{
  "nbformat": 4,
  "nbformat_minor": 0,
  "metadata": {
    "colab": {
      "name": "simple_keras_cnn.ipynb",
      "provenance": [],
      "include_colab_link": true
    },
    "kernelspec": {
      "name": "python3",
      "display_name": "Python 3"
    }
  },
  "cells": [
    {
      "cell_type": "markdown",
      "metadata": {
        "id": "view-in-github",
        "colab_type": "text"
      },
      "source": [
        "<a href=\"https://colab.research.google.com/github/tampapath/super_simple_CNN/blob/master/simple_keras_cnn.ipynb\" target=\"_parent\"><img src=\"https://colab.research.google.com/assets/colab-badge.svg\" alt=\"Open In Colab\"/></a>"
      ]
    },
    {
      "cell_type": "markdown",
      "metadata": {
        "id": "W7Rst0kii-nR",
        "colab_type": "text"
      },
      "source": [
        "This is a simple keras convolutiona neural network code with TensorFlow 1.x as backend for two class image classification."
      ]
    },
    {
      "cell_type": "markdown",
      "metadata": {
        "id": "OGjalaDZjXCT",
        "colab_type": "text"
      },
      "source": [
        "If you are using Google Colab mount Google Drive first if not skip this step."
      ]
    },
    {
      "cell_type": "code",
      "metadata": {
        "id": "A9u0aQEgi1lc",
        "colab_type": "code",
        "colab": {}
      },
      "source": [
        "from google.colab import drive\n",
        "drive.mount('/content/drive')"
      ],
      "execution_count": 0,
      "outputs": []
    },
    {
      "cell_type": "markdown",
      "metadata": {
        "id": "6oe6KYdjj1b5",
        "colab_type": "text"
      },
      "source": [
        "Specify the path to your training and testing image directories."
      ]
    },
    {
      "cell_type": "code",
      "metadata": {
        "id": "3Pu3baRkj7s8",
        "colab_type": "code",
        "colab": {}
      },
      "source": [
        "path_train = 'path to your training directory'\n",
        "path_val = '/path to your validation directory'"
      ],
      "execution_count": 0,
      "outputs": []
    },
    {
      "cell_type": "markdown",
      "metadata": {
        "id": "PVk9kx-zkk9C",
        "colab_type": "text"
      },
      "source": [
        "Import keras and build your model (we use 256 by 256 pixels as image input values for this example)."
      ]
    },
    {
      "cell_type": "code",
      "metadata": {
        "id": "loYMwuchk9VY",
        "colab_type": "code",
        "colab": {}
      },
      "source": [
        "import keras\n",
        "from keras import layers\n",
        "from keras import models\n",
        "\n",
        "model = models.Sequential()\n",
        "model.add(layers.Conv2D(32, (3, 3), activation='relu',\n",
        "                        input_shape=(256, 256, 3)))\n",
        "model.add(layers.MaxPooling2D((2, 2)))\n",
        "model.add(layers.Conv2D(64, (3, 3), activation='relu'))\n",
        "model.add(layers.MaxPooling2D((2, 2)))\n",
        "model.add(layers.Conv2D(128, (3, 3), activation='relu'))\n",
        "model.add(layers.MaxPooling2D((2, 2)))\n",
        "model.add(layers.Flatten())\n",
        "model.add(layers.Dense(512, activation='relu'))\n",
        "model.add(layers.Dense(1, activation='sigmoid'))"
      ],
      "execution_count": 0,
      "outputs": []
    },
    {
      "cell_type": "markdown",
      "metadata": {
        "id": "w59R3xxClbB5",
        "colab_type": "text"
      },
      "source": [
        "View model summary."
      ]
    },
    {
      "cell_type": "code",
      "metadata": {
        "id": "S6uWsTT2lmnU",
        "colab_type": "code",
        "colab": {}
      },
      "source": [
        "model.summary()"
      ],
      "execution_count": 0,
      "outputs": []
    },
    {
      "cell_type": "markdown",
      "metadata": {
        "id": "YIPHq26fl7j8",
        "colab_type": "text"
      },
      "source": [
        "Prepare images for fitting (training) using keras ImageDataGenerator."
      ]
    },
    {
      "cell_type": "code",
      "metadata": {
        "id": "v9h_jMk7mE0T",
        "colab_type": "code",
        "colab": {}
      },
      "source": [
        "batch_size = 16 #you can specify your batch size (or use 16)\n",
        "\n",
        "from keras.preprocessing.image import ImageDataGenerator\n",
        "\n",
        "train_datagen = ImageDataGenerator(rescale=1./255)\n",
        "val_datagen = ImageDataGenerator(rescale=1./255)\n",
        "\n",
        "train_generator = train_datagen.flow_from_directory(\n",
        "        path_train,\n",
        "        target_size=(256, 256),\n",
        "        batch_size=batch_size,\n",
        "        class_mode='binary')\n",
        "\n",
        "validation_generator = val_datagen.flow_from_directory(\n",
        "        path_val,\n",
        "        target_size=(256, 256),\n",
        "        batch_size=batch_size,\n",
        "        class_mode='binary')"
      ],
      "execution_count": 0,
      "outputs": []
    },
    {
      "cell_type": "markdown",
      "metadata": {
        "id": "eLL_oSX4nI8B",
        "colab_type": "text"
      },
      "source": [
        "Run your model (current loss and accuracy of both training and validation are listed after every epoch)"
      ]
    },
    {
      "cell_type": "code",
      "metadata": {
        "id": "w4IZXlXfnP5v",
        "colab_type": "code",
        "colab": {}
      },
      "source": [
        "steps_per_epoch_train = 'number of training images divided by batch_size'\n",
        "steps_per_epoch_val = 'number of validation images divided by batch_size'\n",
        "\n",
        "history = model.fit_generator(\n",
        "      train_generator,\n",
        "      steps_per_epoch=steps_per_epoch_train,\n",
        "      epochs=30, # you can specify your number of epochs here (or use 30)\n",
        "      validation_data=validation_generator,\n",
        "      validation_steps=steps_per_epoch_val)"
      ],
      "execution_count": 0,
      "outputs": []
    },
    {
      "cell_type": "markdown",
      "metadata": {
        "id": "5bMHtATsoGKN",
        "colab_type": "text"
      },
      "source": [
        "Save your model."
      ]
    },
    {
      "cell_type": "code",
      "metadata": {
        "id": "k8Chc_GooJrQ",
        "colab_type": "code",
        "colab": {}
      },
      "source": [
        "model.save('yourmodel.h5')"
      ],
      "execution_count": 0,
      "outputs": []
    }
  ]
}